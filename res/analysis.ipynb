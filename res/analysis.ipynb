{
 "cells": [
  {
   "cell_type": "code",
   "execution_count": 49,
   "metadata": {
    "collapsed": true,
    "ExecuteTime": {
     "end_time": "2023-06-19T15:54:30.714588304Z",
     "start_time": "2023-06-19T15:54:30.571985005Z"
    }
   },
   "outputs": [],
   "source": [
    "import pandas as pd\n",
    "import math\n",
    "from scipy.stats import norm\n",
    "from sklearn.metrics import mean_squared_error, mean_absolute_error"
   ]
  },
  {
   "cell_type": "code",
   "execution_count": 50,
   "outputs": [],
   "source": [
    "def find_upper_bound(mu, std, alpha=0.95):\n",
    "    z_value = norm.ppf(alpha)\n",
    "    return mu + std * z_value"
   ],
   "metadata": {
    "collapsed": false,
    "ExecuteTime": {
     "end_time": "2023-06-19T15:54:30.714875137Z",
     "start_time": "2023-06-19T15:54:30.582578193Z"
    }
   }
  },
  {
   "cell_type": "code",
   "execution_count": 51,
   "outputs": [],
   "source": [
    "gpu_conv_value = 0.00021648585046\n",
    "gpu_no_norm_conv_value = 6958.933333333333333\n",
    "per_unit_energy_cons = 1"
   ],
   "metadata": {
    "collapsed": false,
    "ExecuteTime": {
     "end_time": "2023-06-19T15:54:30.715074569Z",
     "start_time": "2023-06-19T15:54:30.587537241Z"
    }
   }
  },
  {
   "cell_type": "code",
   "execution_count": 52,
   "outputs": [],
   "source": [
    "original_dataset = pd.read_csv(\"../saved_data/ali20/ali20_g.csv\")\n",
    "g_truth = original_dataset[\"avggpu\"].values[-2582:]"
   ],
   "metadata": {
    "collapsed": false,
    "ExecuteTime": {
     "end_time": "2023-06-19T15:54:30.715504092Z",
     "start_time": "2023-06-19T15:54:30.598911991Z"
    }
   }
  },
  {
   "cell_type": "code",
   "execution_count": 53,
   "outputs": [
    {
     "data": {
      "text/plain": "  model  pred_gpu  pred_std  true_norm_gpu      true_gpu  true_n_gpu  \\\n0  HBNN  0.792370  0.058169       0.804885  2.918980e+07        3718   \n1  HBNN  0.787413  0.058161       0.814360  2.940805e+07        3762   \n\n      ub_95  pred_n_gpu_95  \n0  0.888050           4103  \n1  0.883079           4080  ",
      "text/html": "<div>\n<style scoped>\n    .dataframe tbody tr th:only-of-type {\n        vertical-align: middle;\n    }\n\n    .dataframe tbody tr th {\n        vertical-align: top;\n    }\n\n    .dataframe thead th {\n        text-align: right;\n    }\n</style>\n<table border=\"1\" class=\"dataframe\">\n  <thead>\n    <tr style=\"text-align: right;\">\n      <th></th>\n      <th>model</th>\n      <th>pred_gpu</th>\n      <th>pred_std</th>\n      <th>true_norm_gpu</th>\n      <th>true_gpu</th>\n      <th>true_n_gpu</th>\n      <th>ub_95</th>\n      <th>pred_n_gpu_95</th>\n    </tr>\n  </thead>\n  <tbody>\n    <tr>\n      <th>0</th>\n      <td>HBNN</td>\n      <td>0.792370</td>\n      <td>0.058169</td>\n      <td>0.804885</td>\n      <td>2.918980e+07</td>\n      <td>3718</td>\n      <td>0.888050</td>\n      <td>4103</td>\n    </tr>\n    <tr>\n      <th>1</th>\n      <td>HBNN</td>\n      <td>0.787413</td>\n      <td>0.058161</td>\n      <td>0.814360</td>\n      <td>2.940805e+07</td>\n      <td>3762</td>\n      <td>0.883079</td>\n      <td>4080</td>\n    </tr>\n  </tbody>\n</table>\n</div>"
     },
     "execution_count": 53,
     "metadata": {},
     "output_type": "execute_result"
    }
   ],
   "source": [
    "hbnn_results = pd.read_csv(\"output_HBNN-ali20_g-gpu-w288-h2.csv\")\n",
    "hbnn_results.drop(labels=[\"Unnamed: 0\"], inplace=True, axis=1)\n",
    "hbnn_results[\"true_gpu\"] = g_truth\n",
    "hbnn_results[\"model\"] = [\"HBNN\" for i in range(len(hbnn_results))]\n",
    "hbnn_results.rename(columns={\"avggpu\": \"pred_gpu\", \"std\": \"pred_std\", \"labels\": \"true_norm_gpu\"}, inplace=True)\n",
    "first_column = hbnn_results.pop('model')\n",
    "hbnn_results.insert(0, 'model', first_column)\n",
    "hbnn_results[\"true_n_gpu\"] = hbnn_results.apply(lambda row: math.ceil(row[\"true_norm_gpu\"]/gpu_conv_value), axis=1)\n",
    "hbnn_results[\"ub_95\"] = hbnn_results.apply(lambda row: find_upper_bound(row[\"pred_gpu\"], row[\"pred_std\"], alpha=0.95), axis=1)\n",
    "hbnn_results[\"pred_n_gpu_95\"] = hbnn_results.apply(lambda row: math.ceil(row[\"ub_95\"]/gpu_conv_value), axis=1)\n",
    "hbnn_results.head(2)"
   ],
   "metadata": {
    "collapsed": false,
    "ExecuteTime": {
     "end_time": "2023-06-19T15:54:30.991073674Z",
     "start_time": "2023-06-19T15:54:30.642163570Z"
    }
   }
  },
  {
   "cell_type": "code",
   "execution_count": 54,
   "outputs": [
    {
     "data": {
      "text/plain": "          pred_gpu     pred_std  true_norm_gpu      true_gpu   true_n_gpu  \\\ncount  2582.000000  2582.000000    2582.000000  2.582000e+03  2582.000000   \nmean      0.357420     0.049786       0.328949  1.822752e+07  1519.997289   \nstd       0.187234     0.007063       0.232520  5.355664e+06  1074.064784   \nmin       0.109442     0.016079      -0.172291  6.682396e+06  -795.000000   \n25%       0.143482     0.046260       0.106536  1.310465e+07   492.250000   \n50%       0.372455     0.049210       0.362540  1.900122e+07  1675.000000   \n75%       0.516378     0.052960       0.519670  2.262042e+07  2400.750000   \nmax       0.825197     0.110551       0.915283  3.173261e+07  4228.000000   \n\n             ub_95  pred_n_gpu_95  \ncount  2582.000000    2582.000000  \nmean      0.439311    2029.774981  \nstd       0.189360     874.695920  \nmin       0.183581     849.000000  \n25%       0.230175    1064.000000  \n50%       0.449472    2076.500000  \n75%       0.599429    2769.000000  \nmax       0.918887    4245.000000  ",
      "text/html": "<div>\n<style scoped>\n    .dataframe tbody tr th:only-of-type {\n        vertical-align: middle;\n    }\n\n    .dataframe tbody tr th {\n        vertical-align: top;\n    }\n\n    .dataframe thead th {\n        text-align: right;\n    }\n</style>\n<table border=\"1\" class=\"dataframe\">\n  <thead>\n    <tr style=\"text-align: right;\">\n      <th></th>\n      <th>pred_gpu</th>\n      <th>pred_std</th>\n      <th>true_norm_gpu</th>\n      <th>true_gpu</th>\n      <th>true_n_gpu</th>\n      <th>ub_95</th>\n      <th>pred_n_gpu_95</th>\n    </tr>\n  </thead>\n  <tbody>\n    <tr>\n      <th>count</th>\n      <td>2582.000000</td>\n      <td>2582.000000</td>\n      <td>2582.000000</td>\n      <td>2.582000e+03</td>\n      <td>2582.000000</td>\n      <td>2582.000000</td>\n      <td>2582.000000</td>\n    </tr>\n    <tr>\n      <th>mean</th>\n      <td>0.357420</td>\n      <td>0.049786</td>\n      <td>0.328949</td>\n      <td>1.822752e+07</td>\n      <td>1519.997289</td>\n      <td>0.439311</td>\n      <td>2029.774981</td>\n    </tr>\n    <tr>\n      <th>std</th>\n      <td>0.187234</td>\n      <td>0.007063</td>\n      <td>0.232520</td>\n      <td>5.355664e+06</td>\n      <td>1074.064784</td>\n      <td>0.189360</td>\n      <td>874.695920</td>\n    </tr>\n    <tr>\n      <th>min</th>\n      <td>0.109442</td>\n      <td>0.016079</td>\n      <td>-0.172291</td>\n      <td>6.682396e+06</td>\n      <td>-795.000000</td>\n      <td>0.183581</td>\n      <td>849.000000</td>\n    </tr>\n    <tr>\n      <th>25%</th>\n      <td>0.143482</td>\n      <td>0.046260</td>\n      <td>0.106536</td>\n      <td>1.310465e+07</td>\n      <td>492.250000</td>\n      <td>0.230175</td>\n      <td>1064.000000</td>\n    </tr>\n    <tr>\n      <th>50%</th>\n      <td>0.372455</td>\n      <td>0.049210</td>\n      <td>0.362540</td>\n      <td>1.900122e+07</td>\n      <td>1675.000000</td>\n      <td>0.449472</td>\n      <td>2076.500000</td>\n    </tr>\n    <tr>\n      <th>75%</th>\n      <td>0.516378</td>\n      <td>0.052960</td>\n      <td>0.519670</td>\n      <td>2.262042e+07</td>\n      <td>2400.750000</td>\n      <td>0.599429</td>\n      <td>2769.000000</td>\n    </tr>\n    <tr>\n      <th>max</th>\n      <td>0.825197</td>\n      <td>0.110551</td>\n      <td>0.915283</td>\n      <td>3.173261e+07</td>\n      <td>4228.000000</td>\n      <td>0.918887</td>\n      <td>4245.000000</td>\n    </tr>\n  </tbody>\n</table>\n</div>"
     },
     "execution_count": 54,
     "metadata": {},
     "output_type": "execute_result"
    }
   ],
   "source": [
    "hbnn_results.describe()"
   ],
   "metadata": {
    "collapsed": false,
    "ExecuteTime": {
     "end_time": "2023-06-19T15:54:31.004561967Z",
     "start_time": "2023-06-19T15:54:30.979454612Z"
    }
   }
  },
  {
   "cell_type": "code",
   "execution_count": 55,
   "outputs": [
    {
     "data": {
      "text/plain": "Index(['model', 'pred_gpu', 'pred_std', 'true_norm_gpu', 'true_gpu',\n       'true_n_gpu', 'ub_95', 'pred_n_gpu_95'],\n      dtype='object')"
     },
     "execution_count": 55,
     "metadata": {},
     "output_type": "execute_result"
    }
   ],
   "source": [
    "hbnn_results.columns"
   ],
   "metadata": {
    "collapsed": false,
    "ExecuteTime": {
     "end_time": "2023-06-19T15:54:31.195601382Z",
     "start_time": "2023-06-19T15:54:31.006108316Z"
    }
   }
  },
  {
   "cell_type": "code",
   "execution_count": 56,
   "outputs": [],
   "source": [
    "# monte_results = pd.read_csv(\"output_HBNN-ali20_g-gpu-w288-h2.csv\")\n",
    "# from sklearn.metrics import mean_squared_error\n",
    "# print(mean_squared_error(monte_results.avggpu, monte_results.labels))"
   ],
   "metadata": {
    "collapsed": false,
    "ExecuteTime": {
     "end_time": "2023-06-19T15:54:31.195875437Z",
     "start_time": "2023-06-19T15:54:31.048030149Z"
    }
   }
  },
  {
   "cell_type": "code",
   "execution_count": 57,
   "outputs": [],
   "source": [
    "# monte_results = pd.read_csv(\"output_MCDLSTM-ali20_g-gpu-w288-h2.csv\")\n",
    "# from sklearn.metrics import mean_squared_error\n",
    "# print(mean_squared_error(monte_results.avggpu, monte_results.labels))"
   ],
   "metadata": {
    "collapsed": false,
    "ExecuteTime": {
     "end_time": "2023-06-19T15:54:31.196816019Z",
     "start_time": "2023-06-19T15:54:31.048418152Z"
    }
   }
  },
  {
   "cell_type": "code",
   "execution_count": 58,
   "outputs": [
    {
     "data": {
      "text/plain": "     model  pred_gpu      pred_std  true_norm_gpu      true_gpu  true_n_gpu  \\\n0  MCDLSTM  0.810325  2.384186e-07       0.804885  2.918980e+07        3718   \n1  MCDLSTM  0.798122  5.960465e-08       0.814360  2.940805e+07        3762   \n\n      ub_95  pred_n_gpu_95  \n0  0.810325           3744  \n1  0.798122           3687  ",
      "text/html": "<div>\n<style scoped>\n    .dataframe tbody tr th:only-of-type {\n        vertical-align: middle;\n    }\n\n    .dataframe tbody tr th {\n        vertical-align: top;\n    }\n\n    .dataframe thead th {\n        text-align: right;\n    }\n</style>\n<table border=\"1\" class=\"dataframe\">\n  <thead>\n    <tr style=\"text-align: right;\">\n      <th></th>\n      <th>model</th>\n      <th>pred_gpu</th>\n      <th>pred_std</th>\n      <th>true_norm_gpu</th>\n      <th>true_gpu</th>\n      <th>true_n_gpu</th>\n      <th>ub_95</th>\n      <th>pred_n_gpu_95</th>\n    </tr>\n  </thead>\n  <tbody>\n    <tr>\n      <th>0</th>\n      <td>MCDLSTM</td>\n      <td>0.810325</td>\n      <td>2.384186e-07</td>\n      <td>0.804885</td>\n      <td>2.918980e+07</td>\n      <td>3718</td>\n      <td>0.810325</td>\n      <td>3744</td>\n    </tr>\n    <tr>\n      <th>1</th>\n      <td>MCDLSTM</td>\n      <td>0.798122</td>\n      <td>5.960465e-08</td>\n      <td>0.814360</td>\n      <td>2.940805e+07</td>\n      <td>3762</td>\n      <td>0.798122</td>\n      <td>3687</td>\n    </tr>\n  </tbody>\n</table>\n</div>"
     },
     "execution_count": 58,
     "metadata": {},
     "output_type": "execute_result"
    }
   ],
   "source": [
    "monte_results = pd.read_csv(\"output_MCDLSTM-ali20_g-gpu-w288-h2.csv\")\n",
    "monte_results.drop(labels=[\"Unnamed: 0\"], inplace=True, axis=1)\n",
    "monte_results[\"true_gpu\"] = g_truth\n",
    "monte_results[\"model\"] = [\"MCDLSTM\" for i in range(len(monte_results))]\n",
    "monte_results.rename(columns={\"avggpu\": \"pred_gpu\", \"std\": \"pred_std\", \"labels\": \"true_norm_gpu\"}, inplace=True)\n",
    "first_column = monte_results.pop('model')\n",
    "monte_results.insert(0, 'model', first_column)\n",
    "monte_results[\"true_n_gpu\"] = monte_results.apply(lambda row: math.ceil(row[\"true_norm_gpu\"]/gpu_conv_value), axis=1)\n",
    "monte_results[\"ub_95\"] = monte_results.apply(lambda row: find_upper_bound(row[\"pred_gpu\"], row[\"pred_std\"], alpha=0.95), axis=1)\n",
    "monte_results[\"pred_n_gpu_95\"] = monte_results.apply(lambda row: math.ceil(row[\"ub_95\"]/gpu_conv_value), axis=1)\n",
    "monte_results.head(2)"
   ],
   "metadata": {
    "collapsed": false,
    "ExecuteTime": {
     "end_time": "2023-06-19T15:54:31.582587698Z",
     "start_time": "2023-06-19T15:54:31.048714272Z"
    }
   }
  },
  {
   "cell_type": "code",
   "execution_count": 59,
   "outputs": [
    {
     "data": {
      "text/plain": "          pred_gpu      pred_std  true_norm_gpu      true_gpu   true_n_gpu  \\\ncount  2582.000000  2.582000e+03    2582.000000  2.582000e+03  2582.000000   \nmean      0.337572  6.597421e-08       0.328949  1.822752e+07  1519.997289   \nstd       0.214559  6.558250e-08       0.232520  5.355664e+06  1074.064784   \nmin      -0.039172  0.000000e+00      -0.172291  6.682396e+06  -795.000000   \n25%       0.125868  1.117587e-08       0.106536  1.310465e+07   492.250000   \n50%       0.367512  5.960465e-08       0.362540  1.900122e+07  1675.000000   \n75%       0.512203  8.940697e-08       0.519670  2.262042e+07  2400.750000   \nmax       0.893295  2.980232e-07       0.915283  3.173261e+07  4228.000000   \n\n             ub_95  pred_n_gpu_95  \ncount  2582.000000    2582.000000  \nmean      0.337572    1559.831913  \nstd       0.214559     991.103168  \nmin      -0.039172    -180.000000  \n25%       0.125868     581.500000  \n50%       0.367512    1698.000000  \n75%       0.512203    2366.500000  \nmax       0.893295    4127.000000  ",
      "text/html": "<div>\n<style scoped>\n    .dataframe tbody tr th:only-of-type {\n        vertical-align: middle;\n    }\n\n    .dataframe tbody tr th {\n        vertical-align: top;\n    }\n\n    .dataframe thead th {\n        text-align: right;\n    }\n</style>\n<table border=\"1\" class=\"dataframe\">\n  <thead>\n    <tr style=\"text-align: right;\">\n      <th></th>\n      <th>pred_gpu</th>\n      <th>pred_std</th>\n      <th>true_norm_gpu</th>\n      <th>true_gpu</th>\n      <th>true_n_gpu</th>\n      <th>ub_95</th>\n      <th>pred_n_gpu_95</th>\n    </tr>\n  </thead>\n  <tbody>\n    <tr>\n      <th>count</th>\n      <td>2582.000000</td>\n      <td>2.582000e+03</td>\n      <td>2582.000000</td>\n      <td>2.582000e+03</td>\n      <td>2582.000000</td>\n      <td>2582.000000</td>\n      <td>2582.000000</td>\n    </tr>\n    <tr>\n      <th>mean</th>\n      <td>0.337572</td>\n      <td>6.597421e-08</td>\n      <td>0.328949</td>\n      <td>1.822752e+07</td>\n      <td>1519.997289</td>\n      <td>0.337572</td>\n      <td>1559.831913</td>\n    </tr>\n    <tr>\n      <th>std</th>\n      <td>0.214559</td>\n      <td>6.558250e-08</td>\n      <td>0.232520</td>\n      <td>5.355664e+06</td>\n      <td>1074.064784</td>\n      <td>0.214559</td>\n      <td>991.103168</td>\n    </tr>\n    <tr>\n      <th>min</th>\n      <td>-0.039172</td>\n      <td>0.000000e+00</td>\n      <td>-0.172291</td>\n      <td>6.682396e+06</td>\n      <td>-795.000000</td>\n      <td>-0.039172</td>\n      <td>-180.000000</td>\n    </tr>\n    <tr>\n      <th>25%</th>\n      <td>0.125868</td>\n      <td>1.117587e-08</td>\n      <td>0.106536</td>\n      <td>1.310465e+07</td>\n      <td>492.250000</td>\n      <td>0.125868</td>\n      <td>581.500000</td>\n    </tr>\n    <tr>\n      <th>50%</th>\n      <td>0.367512</td>\n      <td>5.960465e-08</td>\n      <td>0.362540</td>\n      <td>1.900122e+07</td>\n      <td>1675.000000</td>\n      <td>0.367512</td>\n      <td>1698.000000</td>\n    </tr>\n    <tr>\n      <th>75%</th>\n      <td>0.512203</td>\n      <td>8.940697e-08</td>\n      <td>0.519670</td>\n      <td>2.262042e+07</td>\n      <td>2400.750000</td>\n      <td>0.512203</td>\n      <td>2366.500000</td>\n    </tr>\n    <tr>\n      <th>max</th>\n      <td>0.893295</td>\n      <td>2.980232e-07</td>\n      <td>0.915283</td>\n      <td>3.173261e+07</td>\n      <td>4228.000000</td>\n      <td>0.893295</td>\n      <td>4127.000000</td>\n    </tr>\n  </tbody>\n</table>\n</div>"
     },
     "execution_count": 59,
     "metadata": {},
     "output_type": "execute_result"
    }
   ],
   "source": [
    "monte_results.describe()"
   ],
   "metadata": {
    "collapsed": false,
    "ExecuteTime": {
     "end_time": "2023-06-19T15:54:31.582974908Z",
     "start_time": "2023-06-19T15:54:31.390479871Z"
    }
   }
  },
  {
   "cell_type": "code",
   "execution_count": 59,
   "outputs": [],
   "source": [],
   "metadata": {
    "collapsed": false,
    "ExecuteTime": {
     "end_time": "2023-06-19T15:54:31.583337194Z",
     "start_time": "2023-06-19T15:54:31.414695450Z"
    }
   }
  },
  {
   "cell_type": "code",
   "execution_count": 60,
   "outputs": [
    {
     "data": {
      "text/plain": "   model  pred_gpu  pred_std  true_norm_gpu      true_gpu  true_n_gpu  \\\n0  FLBNN  0.614491  0.064371       0.804885  2.918980e+07        3718   \n1  FLBNN  0.614068  0.063943       0.814360  2.940805e+07        3762   \n\n      ub_95  pred_n_gpu_95  \n0  0.720371           3328  \n1  0.719245           3323  ",
      "text/html": "<div>\n<style scoped>\n    .dataframe tbody tr th:only-of-type {\n        vertical-align: middle;\n    }\n\n    .dataframe tbody tr th {\n        vertical-align: top;\n    }\n\n    .dataframe thead th {\n        text-align: right;\n    }\n</style>\n<table border=\"1\" class=\"dataframe\">\n  <thead>\n    <tr style=\"text-align: right;\">\n      <th></th>\n      <th>model</th>\n      <th>pred_gpu</th>\n      <th>pred_std</th>\n      <th>true_norm_gpu</th>\n      <th>true_gpu</th>\n      <th>true_n_gpu</th>\n      <th>ub_95</th>\n      <th>pred_n_gpu_95</th>\n    </tr>\n  </thead>\n  <tbody>\n    <tr>\n      <th>0</th>\n      <td>FLBNN</td>\n      <td>0.614491</td>\n      <td>0.064371</td>\n      <td>0.804885</td>\n      <td>2.918980e+07</td>\n      <td>3718</td>\n      <td>0.720371</td>\n      <td>3328</td>\n    </tr>\n    <tr>\n      <th>1</th>\n      <td>FLBNN</td>\n      <td>0.614068</td>\n      <td>0.063943</td>\n      <td>0.814360</td>\n      <td>2.940805e+07</td>\n      <td>3762</td>\n      <td>0.719245</td>\n      <td>3323</td>\n    </tr>\n  </tbody>\n</table>\n</div>"
     },
     "execution_count": 60,
     "metadata": {},
     "output_type": "execute_result"
    }
   ],
   "source": [
    "flbnn_results = pd.read_csv(\"output_FLBNN-ali20_g-gpu-w288-h2.csv\")\n",
    "flbnn_results.drop(labels=[\"Unnamed: 0\"], inplace=True, axis=1)\n",
    "flbnn_results[\"true_gpu\"] = g_truth\n",
    "flbnn_results[\"model\"] = [\"FLBNN\" for i in range(len(flbnn_results))]\n",
    "flbnn_results.rename(columns={\"avggpu\": \"pred_gpu\", \"std\": \"pred_std\", \"labels\": \"true_norm_gpu\"}, inplace=True)\n",
    "first_column = flbnn_results.pop('model')\n",
    "flbnn_results.insert(0, 'model', first_column)\n",
    "flbnn_results[\"true_n_gpu\"] = flbnn_results.apply(lambda row: math.ceil(row[\"true_norm_gpu\"]/gpu_conv_value), axis=1)\n",
    "flbnn_results[\"ub_95\"] = flbnn_results.apply(lambda row: find_upper_bound(row[\"pred_gpu\"], row[\"pred_std\"], alpha=0.95), axis=1)\n",
    "flbnn_results[\"pred_n_gpu_95\"] = flbnn_results.apply(lambda row: math.ceil(row[\"ub_95\"]/gpu_conv_value), axis=1)\n",
    "flbnn_results.head(2)"
   ],
   "metadata": {
    "collapsed": false,
    "ExecuteTime": {
     "end_time": "2023-06-19T15:54:31.944222456Z",
     "start_time": "2023-06-19T15:54:31.456196286Z"
    }
   }
  },
  {
   "cell_type": "code",
   "execution_count": 60,
   "outputs": [],
   "source": [],
   "metadata": {
    "collapsed": false,
    "ExecuteTime": {
     "end_time": "2023-06-19T15:54:31.945854583Z",
     "start_time": "2023-06-19T15:54:31.756995436Z"
    }
   }
  },
  {
   "cell_type": "code",
   "execution_count": 61,
   "outputs": [
    {
     "data": {
      "text/plain": "   model  pred_gpu  true_norm_gpu      true_gpu  true_n_gpu     ub_95  \\\n0  LSTMQ  0.867105       0.804885  2.918980e+07        3718  0.867105   \n1  LSTMQ  0.860391       0.814360  2.940805e+07        3762  0.860391   \n\n   pred_n_gpu_95  \n0           4006  \n1           3975  ",
      "text/html": "<div>\n<style scoped>\n    .dataframe tbody tr th:only-of-type {\n        vertical-align: middle;\n    }\n\n    .dataframe tbody tr th {\n        vertical-align: top;\n    }\n\n    .dataframe thead th {\n        text-align: right;\n    }\n</style>\n<table border=\"1\" class=\"dataframe\">\n  <thead>\n    <tr style=\"text-align: right;\">\n      <th></th>\n      <th>model</th>\n      <th>pred_gpu</th>\n      <th>true_norm_gpu</th>\n      <th>true_gpu</th>\n      <th>true_n_gpu</th>\n      <th>ub_95</th>\n      <th>pred_n_gpu_95</th>\n    </tr>\n  </thead>\n  <tbody>\n    <tr>\n      <th>0</th>\n      <td>LSTMQ</td>\n      <td>0.867105</td>\n      <td>0.804885</td>\n      <td>2.918980e+07</td>\n      <td>3718</td>\n      <td>0.867105</td>\n      <td>4006</td>\n    </tr>\n    <tr>\n      <th>1</th>\n      <td>LSTMQ</td>\n      <td>0.860391</td>\n      <td>0.814360</td>\n      <td>2.940805e+07</td>\n      <td>3762</td>\n      <td>0.860391</td>\n      <td>3975</td>\n    </tr>\n  </tbody>\n</table>\n</div>"
     },
     "execution_count": 61,
     "metadata": {},
     "output_type": "execute_result"
    }
   ],
   "source": [
    "lstmq_results = pd.read_csv(\"output_LSTMQ-ali20_g-gpu-w288-h2.csv\")\n",
    "lstmq_results.drop(labels=[\"Unnamed: 0\", \"std\"], inplace=True, axis=1)\n",
    "lstmq_results[\"true_gpu\"] = g_truth\n",
    "lstmq_results[\"model\"] = [\"LSTMQ\" for i in range(len(lstmq_results))]\n",
    "lstmq_results.rename(columns={\"avggpu\": \"pred_gpu\", \"labels\": \"true_norm_gpu\"}, inplace=True)\n",
    "first_column = lstmq_results.pop('model')\n",
    "lstmq_results.insert(0, 'model', first_column)\n",
    "lstmq_results[\"true_n_gpu\"] = lstmq_results.apply(lambda row: math.ceil(row[\"true_norm_gpu\"]/gpu_conv_value), axis=1)\n",
    "lstmq_results[\"ub_95\"] = lstmq_results[\"pred_gpu\"].values\n",
    "lstmq_results[\"pred_n_gpu_95\"] = lstmq_results.apply(lambda row: math.ceil(row[\"ub_95\"]/gpu_conv_value), axis=1)\n",
    "lstmq_results.head(2)"
   ],
   "metadata": {
    "collapsed": false,
    "ExecuteTime": {
     "end_time": "2023-06-19T15:54:31.955754955Z",
     "start_time": "2023-06-19T15:54:31.776140689Z"
    }
   }
  },
  {
   "cell_type": "code",
   "execution_count": null,
   "outputs": [],
   "source": [],
   "metadata": {
    "collapsed": false
   }
  },
  {
   "cell_type": "code",
   "execution_count": null,
   "outputs": [],
   "source": [],
   "metadata": {
    "collapsed": false
   }
  },
  {
   "cell_type": "code",
   "execution_count": 12,
   "outputs": [],
   "source": [],
   "metadata": {
    "collapsed": false,
    "ExecuteTime": {
     "end_time": "2023-06-19T14:20:17.548901999Z",
     "start_time": "2023-06-19T14:20:17.503010584Z"
    }
   }
  },
  {
   "cell_type": "markdown",
   "source": [
    "<h2>Energy scenario 1</h2>\n",
    "\n",
    "All GPU machines have the same computational power and they consume the same amount of energy.\n",
    "\n",
    "The scenario has no memory (no GPU state transitions), i.e. the energy consumption is calculated independently from the previous GPUs states"
   ],
   "metadata": {
    "collapsed": false
   }
  },
  {
   "cell_type": "code",
   "execution_count": 71,
   "outputs": [
    {
     "name": "stdout",
     "output_type": "stream",
     "text": [
      "Total units of energy consumption for perfect predictor: 3924633\n",
      "Total units of energy consumption for MCDLSTM predictor: 4027486 (2.6%)\n",
      "Total units of energy consumption for HBNN predictor: 5240879 (33.5%)\n",
      "Total units of energy consumption for FLBNN predictor: 5622180 (43.3%)\n",
      "Total units of energy consumption for LSTMQ predictor: 4703802 (19.9%)\n"
     ]
    }
   ],
   "source": [
    "optimal_energy = hbnn_results[\"true_n_gpu\"].values.sum()\n",
    "total_energy = {\"true\": optimal_energy,\n",
    "                \"hbnn\": hbnn_results[\"pred_n_gpu_95\"].values.sum(),\n",
    "                \"mcd\": monte_results[\"pred_n_gpu_95\"].values.sum(),\n",
    "                \"flbnn\": flbnn_results[\"pred_n_gpu_95\"].values.sum(),\n",
    "                \"lstmq\": lstmq_results[\"pred_n_gpu_95\"].values.sum(),\n",
    "                }\n",
    "print(f\"Total units of energy consumption for perfect predictor: {total_energy['true']}\")\n",
    "print(f\"Total units of energy consumption for MCDLSTM predictor: {total_energy['mcd']} ({round((total_energy['mcd'] - optimal_energy)/optimal_energy*100, 1)}%)\")\n",
    "print(f\"Total units of energy consumption for HBNN predictor: {total_energy['hbnn']} ({round((total_energy['hbnn'] - optimal_energy)/optimal_energy*100, 1)}%)\")\n",
    "print(f\"Total units of energy consumption for FLBNN predictor: {total_energy['flbnn']} ({round((total_energy['flbnn'] - optimal_energy)/optimal_energy*100, 1)}%)\")\n",
    "print(f\"Total units of energy consumption for LSTMQ predictor: {total_energy['lstmq']} ({round((total_energy['lstmq'] - optimal_energy)/optimal_energy*100, 1)}%)\")"
   ],
   "metadata": {
    "collapsed": false,
    "ExecuteTime": {
     "end_time": "2023-06-19T16:15:33.513177097Z",
     "start_time": "2023-06-19T16:15:33.481558780Z"
    }
   }
  },
  {
   "cell_type": "markdown",
   "source": [
    "over<h2>Energy scenario 2</h2>\n",
    "\n",
    "All GPU machines have the same computational power and they consume the same amount of energy when ON.\n",
    "We model also the state of a GPU {ON, OFF}, and there is a fixed cost on transitioning from OFF to ON. No cost from ON to OFF.\n",
    "\n",
    "Initial scenario: All GPUs needed are ON, and there is no associated cost for this. Then, GPUs are switched ON and OFF based on the predicted workload. The energy consumtpion is calculated accordingly."
   ],
   "metadata": {
    "collapsed": false
   }
  },
  {
   "cell_type": "code",
   "execution_count": 66,
   "outputs": [],
   "source": [
    "def calculate_consumption(n_gpu_predicted, history, fixed_cost):\n",
    "    if n_gpu_predicted > history[i-1]:\n",
    "        transition_cost = (n_gpu_predicted - history[i-1])*fixed_cost\n",
    "    else:\n",
    "        transition_cost = 0\n",
    "    return transition_cost + n_gpu_predicted"
   ],
   "metadata": {
    "collapsed": false,
    "ExecuteTime": {
     "end_time": "2023-06-19T15:55:40.158474964Z",
     "start_time": "2023-06-19T15:55:40.153698939Z"
    }
   }
  },
  {
   "cell_type": "code",
   "execution_count": 67,
   "outputs": [],
   "source": [
    "off_to_on_cost = 2\n",
    "scenario_2_costs = {}\n",
    "models = {\"MCDLSTM\": monte_results,\n",
    "          \"HBNN\": hbnn_results,\n",
    "          \"FLBNN\": flbnn_results,\n",
    "          \"LSTMQ\": lstmq_results\n",
    "          }"
   ],
   "metadata": {
    "collapsed": false,
    "ExecuteTime": {
     "end_time": "2023-06-19T15:55:41.244686222Z",
     "start_time": "2023-06-19T15:55:41.231755590Z"
    }
   }
  },
  {
   "cell_type": "code",
   "execution_count": 68,
   "outputs": [],
   "source": [
    "total_cost = 0\n",
    "gpu_history = hbnn_results[\"true_n_gpu\"].values\n",
    "for i, n_gpu in enumerate(gpu_history):\n",
    "    if i == 0:\n",
    "        total_cost += n_gpu\n",
    "        continue\n",
    "    total_cost += calculate_consumption(n_gpu, gpu_history, off_to_on_cost)\n",
    "scenario_2_costs[\"perfect\"] = total_cost"
   ],
   "metadata": {
    "collapsed": false,
    "ExecuteTime": {
     "end_time": "2023-06-19T15:55:42.032636538Z",
     "start_time": "2023-06-19T15:55:42.020958192Z"
    }
   }
  },
  {
   "cell_type": "code",
   "execution_count": 69,
   "outputs": [],
   "source": [
    "for model in models:\n",
    "    total_cost = 0\n",
    "    gpu_history = models[model][\"pred_n_gpu_95\"].values\n",
    "    for i, n_gpu in enumerate(gpu_history):\n",
    "        if i == 0:\n",
    "            total_cost += n_gpu\n",
    "            continue\n",
    "        total_cost += calculate_consumption(n_gpu, gpu_history, off_to_on_cost)\n",
    "    scenario_2_costs[model] = total_cost"
   ],
   "metadata": {
    "collapsed": false,
    "ExecuteTime": {
     "end_time": "2023-06-19T15:55:42.330089734Z",
     "start_time": "2023-06-19T15:55:42.315509942Z"
    }
   }
  },
  {
   "cell_type": "code",
   "execution_count": 70,
   "outputs": [
    {
     "data": {
      "text/plain": "{'perfect': 4091915,\n 'MCDLSTM': 4184722,\n 'HBNN': 5352383,\n 'FLBNN': 5668032,\n 'LSTMQ': 4878706}"
     },
     "execution_count": 70,
     "metadata": {},
     "output_type": "execute_result"
    }
   ],
   "source": [
    "scenario_2_costs"
   ],
   "metadata": {
    "collapsed": false,
    "ExecuteTime": {
     "end_time": "2023-06-19T15:55:43.148885102Z",
     "start_time": "2023-06-19T15:55:43.044815265Z"
    }
   }
  },
  {
   "cell_type": "code",
   "execution_count": null,
   "outputs": [],
   "source": [],
   "metadata": {
    "collapsed": false
   }
  },
  {
   "cell_type": "code",
   "execution_count": null,
   "outputs": [],
   "source": [],
   "metadata": {
    "collapsed": false
   }
  },
  {
   "cell_type": "code",
   "execution_count": null,
   "outputs": [],
   "source": [],
   "metadata": {
    "collapsed": false
   }
  },
  {
   "cell_type": "markdown",
   "source": [
    "<h2>Accuracy</h2>"
   ],
   "metadata": {
    "collapsed": false
   }
  },
  {
   "cell_type": "code",
   "execution_count": 62,
   "outputs": [],
   "source": [
    "def print_results(df_results):\n",
    "\n",
    "    mse_value = mean_squared_error(df_results.pred_gpu, df_results.true_norm_gpu)\n",
    "    print(f\"MSE: {mse_value}\")\n",
    "\n",
    "    mae_value = mean_absolute_error(df_results.pred_gpu, df_results.true_norm_gpu)\n",
    "    print(\"MAE\", mae_value)\n",
    "\n",
    "    sr_value = sum(df_results.ub_95>df_results.true_norm_gpu)/df_results.shape[0]\n",
    "    print(\"SR\", sr_value)\n",
    "\n",
    "    # up_value = sum((df_results.ub_95<df_results.true_norm_gpu)*(df_results.true_norm_gpu-df_results.ub_95))/sum((df_results.ub_95<df_results.true_norm_gpu)*df_results.true_norm_gpu)\n",
    "    up_value = sum((df_results.ub_95<df_results.true_norm_gpu)*(df_results.true_norm_gpu-df_results.ub_95))/sum(df_results.ub_95<df_results.true_norm_gpu)\n",
    "    print(\"UP\", up_value)\n",
    "\n",
    "    # op_value = sum((df_results.ub_95>df_results.true_norm_gpu)*(df_results.ub_95-df_results.true_norm_gpu))/sum((df_results.ub_95>df_results.true_norm_gpu)*df_results.true_norm_gpu)\n",
    "\n",
    "    op_value = sum((df_results.ub_95>df_results.true_norm_gpu)*(df_results.ub_95-df_results.true_norm_gpu))/sum(df_results.ub_95>df_results.true_norm_gpu)\n",
    "    print(\"OP\", op_value)\n",
    "    return mse_value, mae_value, sr_value, up_value, op_value"
   ],
   "metadata": {
    "collapsed": false,
    "ExecuteTime": {
     "end_time": "2023-06-19T15:55:00.699056919Z",
     "start_time": "2023-06-19T15:55:00.644229596Z"
    }
   }
  },
  {
   "cell_type": "code",
   "execution_count": 63,
   "outputs": [
    {
     "name": "stdout",
     "output_type": "stream",
     "text": [
      "MCDLSTM\n",
      "MSE: 0.002068030780908928\n",
      "MAE 0.03390599167512373\n",
      "SR 0.6107668474051123\n",
      "UP 0.032477671125081715\n",
      "OP 0.03481625141235087\n",
      "\n",
      "HBNN\n",
      "MSE: 0.005862803756676761\n",
      "MAE 0.05507856979953394\n",
      "SR 0.9686289697908598\n",
      "UP 0.04061209514178722\n",
      "OP 0.11525086274629909\n",
      "\n",
      "FLBNN\n",
      "MSE: 0.009376300999237301\n",
      "MAE 0.0755649909627305\n",
      "SR 0.9523625096824168\n",
      "UP 0.057325949415763036\n",
      "OP 0.15231649269117306\n",
      "\n",
      "LSTMQ\n",
      "MSE: 0.006166121405354145\n",
      "MAE 0.06926118064031304\n",
      "SR 0.935708752904725\n",
      "UP 0.030568525106875417\n",
      "OP 0.0719196991910378\n",
      "\n"
     ]
    }
   ],
   "source": [
    "models = {\"MCDLSTM\": monte_results,\n",
    "          \"HBNN\": hbnn_results,\n",
    "          \"FLBNN\": flbnn_results,\n",
    "          \"LSTMQ\": lstmq_results\n",
    "          }\n",
    "mse_values = []\n",
    "mae_values = []\n",
    "sr_values = []\n",
    "up_values = []\n",
    "op_values = []\n",
    "for model in models:\n",
    "    print(model)\n",
    "    a, b, c, d, e = print_results(models[model])\n",
    "    mse_values.append(a)\n",
    "    mae_values.append(b)\n",
    "    sr_values.append(c)\n",
    "    up_values.append(d)\n",
    "    op_values.append(e)\n",
    "    print()\n",
    "data = {\"model\": [\"MCDLSTM\", \"HBNN\", \"FLBNN\", \"LSTMQ\"],\n",
    "        \"MSE\": mse_values,\n",
    "        \"MAE\": mae_values,\n",
    "        \"SR\": sr_values,\n",
    "        \"UP\": up_values,\n",
    "        \"OP\": op_values\n",
    "        }\n",
    "df_accuracy = pd.DataFrame(data=data)"
   ],
   "metadata": {
    "collapsed": false,
    "ExecuteTime": {
     "end_time": "2023-06-19T15:55:01.190189872Z",
     "start_time": "2023-06-19T15:55:01.151331827Z"
    }
   }
  },
  {
   "cell_type": "code",
   "execution_count": 64,
   "outputs": [
    {
     "data": {
      "text/plain": "     model       MSE       MAE        SR        UP        OP\n0  MCDLSTM  0.002068  0.033906  0.610767  0.032478  0.034816\n1     HBNN  0.005863  0.055079  0.968629  0.040612  0.115251\n2    FLBNN  0.009376  0.075565  0.952363  0.057326  0.152316\n3    LSTMQ  0.006166  0.069261  0.935709  0.030569  0.071920",
      "text/html": "<div>\n<style scoped>\n    .dataframe tbody tr th:only-of-type {\n        vertical-align: middle;\n    }\n\n    .dataframe tbody tr th {\n        vertical-align: top;\n    }\n\n    .dataframe thead th {\n        text-align: right;\n    }\n</style>\n<table border=\"1\" class=\"dataframe\">\n  <thead>\n    <tr style=\"text-align: right;\">\n      <th></th>\n      <th>model</th>\n      <th>MSE</th>\n      <th>MAE</th>\n      <th>SR</th>\n      <th>UP</th>\n      <th>OP</th>\n    </tr>\n  </thead>\n  <tbody>\n    <tr>\n      <th>0</th>\n      <td>MCDLSTM</td>\n      <td>0.002068</td>\n      <td>0.033906</td>\n      <td>0.610767</td>\n      <td>0.032478</td>\n      <td>0.034816</td>\n    </tr>\n    <tr>\n      <th>1</th>\n      <td>HBNN</td>\n      <td>0.005863</td>\n      <td>0.055079</td>\n      <td>0.968629</td>\n      <td>0.040612</td>\n      <td>0.115251</td>\n    </tr>\n    <tr>\n      <th>2</th>\n      <td>FLBNN</td>\n      <td>0.009376</td>\n      <td>0.075565</td>\n      <td>0.952363</td>\n      <td>0.057326</td>\n      <td>0.152316</td>\n    </tr>\n    <tr>\n      <th>3</th>\n      <td>LSTMQ</td>\n      <td>0.006166</td>\n      <td>0.069261</td>\n      <td>0.935709</td>\n      <td>0.030569</td>\n      <td>0.071920</td>\n    </tr>\n  </tbody>\n</table>\n</div>"
     },
     "execution_count": 64,
     "metadata": {},
     "output_type": "execute_result"
    }
   ],
   "source": [
    "df_accuracy"
   ],
   "metadata": {
    "collapsed": false,
    "ExecuteTime": {
     "end_time": "2023-06-19T15:55:02.266489992Z",
     "start_time": "2023-06-19T15:55:02.229642698Z"
    }
   }
  },
  {
   "cell_type": "code",
   "execution_count": 17,
   "outputs": [],
   "source": [],
   "metadata": {
    "collapsed": false,
    "ExecuteTime": {
     "end_time": "2023-06-19T14:20:17.763647082Z",
     "start_time": "2023-06-19T14:20:17.644955687Z"
    }
   }
  },
  {
   "cell_type": "code",
   "execution_count": null,
   "outputs": [],
   "source": [],
   "metadata": {
    "collapsed": false
   }
  }
 ],
 "metadata": {
  "kernelspec": {
   "display_name": "Python 3",
   "language": "python",
   "name": "python3"
  },
  "language_info": {
   "codemirror_mode": {
    "name": "ipython",
    "version": 2
   },
   "file_extension": ".py",
   "mimetype": "text/x-python",
   "name": "python",
   "nbconvert_exporter": "python",
   "pygments_lexer": "ipython2",
   "version": "2.7.6"
  }
 },
 "nbformat": 4,
 "nbformat_minor": 0
}
